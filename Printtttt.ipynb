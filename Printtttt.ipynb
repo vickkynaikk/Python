{
  "nbformat": 4,
  "nbformat_minor": 0,
  "metadata": {
    "colab": {
      "provenance": []
    },
    "kernelspec": {
      "name": "python3",
      "display_name": "Python 3"
    },
    "language_info": {
      "name": "python"
    }
  },
  "cells": [
    {
      "cell_type": "markdown",
      "source": [
        "**Variable declaration in Python**"
      ],
      "metadata": {
        "id": "ODn91Vt3W9qx"
      }
    },
    {
      "cell_type": "code",
      "source": [
        "a=5\n",
        "b=4\n",
        "sum=a+b\n",
        "sum"
      ],
      "metadata": {
        "colab": {
          "base_uri": "https://localhost:8080/"
        },
        "id": "X403GY_-XFxD",
        "outputId": "567f8986-2415-4844-f70d-7a0d3459019e"
      },
      "execution_count": 4,
      "outputs": [
        {
          "output_type": "execute_result",
          "data": {
            "text/plain": [
              "9"
            ]
          },
          "metadata": {},
          "execution_count": 4
        }
      ]
    },
    {
      "cell_type": "code",
      "source": [
        "import math\n",
        "s=math.sqrt(4)\n",
        "s\n"
      ],
      "metadata": {
        "colab": {
          "base_uri": "https://localhost:8080/"
        },
        "id": "dteCrPY0XMTj",
        "outputId": "c3bfc468-9e5d-432b-a7b3-a948ece79321"
      },
      "execution_count": 7,
      "outputs": [
        {
          "output_type": "execute_result",
          "data": {
            "text/plain": [
              "2.0"
            ]
          },
          "metadata": {},
          "execution_count": 7
        }
      ]
    },
    {
      "cell_type": "code",
      "source": [
        "a=40\n",
        "b=35\n",
        "sub=a-b\n",
        "print(sub)\n",
        "mul=a*b\n",
        "print(mul)\n",
        "div=a/b\n",
        "print(div)\n",
        "rem=a%b\n",
        "print(rem)\n",
        "square=a*a\n",
        "print(square)\n",
        "cube=a*a*a\n",
        "print(cube)"
      ],
      "metadata": {
        "colab": {
          "base_uri": "https://localhost:8080/"
        },
        "id": "0V369WcvZ37L",
        "outputId": "0f88cc9f-9aff-4ee1-ef99-7b2d5a4e8549"
      },
      "execution_count": 10,
      "outputs": [
        {
          "output_type": "stream",
          "name": "stdout",
          "text": [
            "5\n",
            "1400\n",
            "1.1428571428571428\n",
            "5\n",
            "1600\n",
            "64000\n"
          ]
        }
      ]
    },
    {
      "cell_type": "markdown",
      "source": [
        "Data Types"
      ],
      "metadata": {
        "id": "Wr3Xo7D5c4gH"
      }
    },
    {
      "cell_type": "code",
      "source": [
        "name=\"vicky\"\n",
        "print(type(name))"
      ],
      "metadata": {
        "colab": {
          "base_uri": "https://localhost:8080/"
        },
        "id": "8HDJiLNNc-Ip",
        "outputId": "6e6e5897-4f67-49b6-ac76-308314b4a3f9"
      },
      "execution_count": 11,
      "outputs": [
        {
          "output_type": "stream",
          "name": "stdout",
          "text": [
            "<class 'str'>\n"
          ]
        }
      ]
    },
    {
      "cell_type": "code",
      "source": [
        "name2=\"vicky & 36\"\n",
        "print(type(name2))"
      ],
      "metadata": {
        "colab": {
          "base_uri": "https://localhost:8080/"
        },
        "id": "COEmAVkmdKDE",
        "outputId": "cd24cc72-5b09-480f-d5d7-f974ddd83144"
      },
      "execution_count": 12,
      "outputs": [
        {
          "output_type": "stream",
          "name": "stdout",
          "text": [
            "<class 'str'>\n"
          ]
        }
      ]
    },
    {
      "cell_type": "code",
      "source": [],
      "metadata": {
        "id": "U6AU-wbvdQ-9"
      },
      "execution_count": null,
      "outputs": []
    },
    {
      "cell_type": "markdown",
      "source": [
        "Sequence Data Types\n",
        "1. Lists\n",
        "2. Tuples\n",
        "3. Range"
      ],
      "metadata": {
        "id": "QNc6yWTld-vN"
      }
    },
    {
      "cell_type": "code",
      "source": [],
      "metadata": {
        "id": "yQOvR2M7eEtr"
      },
      "execution_count": null,
      "outputs": []
    },
    {
      "cell_type": "markdown",
      "source": [
        "Properties of lists:\n",
        "1.Ordered\n",
        "2.Mutable\n",
        "3.Duplicates"
      ],
      "metadata": {
        "id": "ZaeOkNvFfl_J"
      }
    },
    {
      "cell_type": "code",
      "source": [
        "lis=['vick','9999','kletech']\n",
        "type(lis)"
      ],
      "metadata": {
        "colab": {
          "base_uri": "https://localhost:8080/"
        },
        "id": "hcCvW04ef2ja",
        "outputId": "e3072250-2068-4fd5-a798-171ea61fb224"
      },
      "execution_count": 13,
      "outputs": [
        {
          "output_type": "execute_result",
          "data": {
            "text/plain": [
              "list"
            ]
          },
          "metadata": {},
          "execution_count": 13
        }
      ]
    },
    {
      "cell_type": "code",
      "source": [
        "print(lis)\n",
        "print(len(lis))"
      ],
      "metadata": {
        "colab": {
          "base_uri": "https://localhost:8080/"
        },
        "id": "JO28egoEgLXN",
        "outputId": "db8187af-098f-4c3b-8c2c-abf19702159e"
      },
      "execution_count": 14,
      "outputs": [
        {
          "output_type": "stream",
          "name": "stdout",
          "text": [
            "['vick', '9999', 'kletech']\n",
            "3\n"
          ]
        }
      ]
    },
    {
      "cell_type": "code",
      "source": [
        "lis2=['panavv','35']\n",
        "print(len(lis2))\n",
        "lis3=lis+lis2\n",
        "print(len(lis3))"
      ],
      "metadata": {
        "colab": {
          "base_uri": "https://localhost:8080/"
        },
        "id": "6XpbItiPgW1R",
        "outputId": "fc9b1f0d-69cc-4233-b0e6-4ecf79e82dea"
      },
      "execution_count": 21,
      "outputs": [
        {
          "output_type": "stream",
          "name": "stdout",
          "text": [
            "2\n",
            "5\n"
          ]
        }
      ]
    },
    {
      "cell_type": "code",
      "source": [
        "lis2.clear()\n",
        "lis2"
      ],
      "metadata": {
        "colab": {
          "base_uri": "https://localhost:8080/"
        },
        "id": "vVED3wZiiGVL",
        "outputId": "965b01d2-d324-43c1-d185-c2590f69a6b4"
      },
      "execution_count": 23,
      "outputs": [
        {
          "output_type": "execute_result",
          "data": {
            "text/plain": [
              "[]"
            ]
          },
          "metadata": {},
          "execution_count": 23
        }
      ]
    },
    {
      "cell_type": "code",
      "source": [
        "lis2.append(\"BvB University\")\n",
        "lis2"
      ],
      "metadata": {
        "colab": {
          "base_uri": "https://localhost:8080/"
        },
        "id": "R2SfPDJCiLO9",
        "outputId": "0258b7c8-86bd-4c1d-b759-1d371255f010"
      },
      "execution_count": 25,
      "outputs": [
        {
          "output_type": "execute_result",
          "data": {
            "text/plain": [
              "['BvB University']"
            ]
          },
          "metadata": {},
          "execution_count": 25
        }
      ]
    },
    {
      "cell_type": "code",
      "source": [
        "lis2.append(\"2023\")\n",
        "lis2"
      ],
      "metadata": {
        "colab": {
          "base_uri": "https://localhost:8080/"
        },
        "id": "zf_Nik_-iWde",
        "outputId": "fd57aa2c-8db7-4278-c46e-9a9edb5dd10a"
      },
      "execution_count": 26,
      "outputs": [
        {
          "output_type": "execute_result",
          "data": {
            "text/plain": [
              "['BvB University', '2023']"
            ]
          },
          "metadata": {},
          "execution_count": 26
        }
      ]
    },
    {
      "cell_type": "code",
      "source": [
        "lis4=['abc','acb','aaa','add']\n",
        "lis4[3]\n"
      ],
      "metadata": {
        "colab": {
          "base_uri": "https://localhost:8080/",
          "height": 36
        },
        "id": "9AuLv5cAim2-",
        "outputId": "79a6cefe-3ba6-4747-da23-8ba35ac7fbfe"
      },
      "execution_count": 28,
      "outputs": [
        {
          "output_type": "execute_result",
          "data": {
            "text/plain": [
              "'add'"
            ],
            "application/vnd.google.colaboratory.intrinsic+json": {
              "type": "string"
            }
          },
          "metadata": {},
          "execution_count": 28
        }
      ]
    },
    {
      "cell_type": "code",
      "source": [
        "lis4.sort()\n",
        "lis4"
      ],
      "metadata": {
        "colab": {
          "base_uri": "https://localhost:8080/"
        },
        "id": "x4wi-TZNi4SE",
        "outputId": "6ead532c-b90a-4b81-de38-aeecb4ee2bfd"
      },
      "execution_count": 29,
      "outputs": [
        {
          "output_type": "execute_result",
          "data": {
            "text/plain": [
              "['aaa', 'abc', 'acb', 'add']"
            ]
          },
          "metadata": {},
          "execution_count": 29
        }
      ]
    },
    {
      "cell_type": "code",
      "source": [
        "tupl=(1,'asdlkkfhds')\n",
        "type(tupl)\n",
        "tu= tupl*5\n",
        "tu\n"
      ],
      "metadata": {
        "colab": {
          "base_uri": "https://localhost:8080/"
        },
        "id": "Gz0VQjYNjAaU",
        "outputId": "93bb5723-3381-4fd1-c90b-393e5a09b188"
      },
      "execution_count": 38,
      "outputs": [
        {
          "output_type": "execute_result",
          "data": {
            "text/plain": [
              "(1,\n",
              " 'asdlkkfhds',\n",
              " 1,\n",
              " 'asdlkkfhds',\n",
              " 1,\n",
              " 'asdlkkfhds',\n",
              " 1,\n",
              " 'asdlkkfhds',\n",
              " 1,\n",
              " 'asdlkkfhds')"
            ]
          },
          "metadata": {},
          "execution_count": 38
        }
      ]
    },
    {
      "cell_type": "code",
      "source": [
        "tu1=tupl+tupl\n",
        "tu1"
      ],
      "metadata": {
        "colab": {
          "base_uri": "https://localhost:8080/"
        },
        "id": "R5yB7CAGk9bN",
        "outputId": "3e7d571a-a001-4dcc-df9f-1de5b6719449"
      },
      "execution_count": 39,
      "outputs": [
        {
          "output_type": "execute_result",
          "data": {
            "text/plain": [
              "(1, 'asdlkkfhds', 1, 'asdlkkfhds')"
            ]
          },
          "metadata": {},
          "execution_count": 39
        }
      ]
    }
  ]
}