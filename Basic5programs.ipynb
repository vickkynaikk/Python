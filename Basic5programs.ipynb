{
  "nbformat": 4,
  "nbformat_minor": 0,
  "metadata": {
    "colab": {
      "provenance": []
    },
    "kernelspec": {
      "name": "python3",
      "display_name": "Python 3"
    },
    "language_info": {
      "name": "python"
    }
  },
  "cells": [
    {
      "cell_type": "code",
      "execution_count": null,
      "metadata": {
        "id": "uJwvXksGd6Lp"
      },
      "outputs": [],
      "source": []
    },
    {
      "cell_type": "markdown",
      "source": [
        "Fibonacci Series"
      ],
      "metadata": {
        "id": "nj9sN-ndd_JB"
      }
    },
    {
      "cell_type": "code",
      "source": [
        "xterms=int(input(\"Enter the number of terms:\"))\n",
        "x1,x2=3,4\n",
        "count=0\n",
        "if xterms<=0:\n",
        "  print(\"Invalid case\")\n",
        "elif xterms==1:\n",
        "  print(\"Fibonacci series upto\",xterms,\":\")\n",
        "  print(x1)\n",
        "else:\n",
        "  print(\"Fibonacci series:\")\n",
        "while count<xterms:\n",
        "  print(x1)\n",
        "  xth=x1+x2\n",
        "  x1=x2\n",
        "  x2=xth\n",
        "  count=count+1"
      ],
      "metadata": {
        "colab": {
          "base_uri": "https://localhost:8080/"
        },
        "id": "bL4ntw4aeEpd",
        "outputId": "270b20c3-75f8-4653-8321-80a635809947"
      },
      "execution_count": 4,
      "outputs": [
        {
          "output_type": "stream",
          "name": "stdout",
          "text": [
            "Enter the number of terms: 3\n",
            "Fibonacci series:\n",
            "3\n",
            "4\n",
            "7\n"
          ]
        }
      ]
    },
    {
      "cell_type": "markdown",
      "source": [
        "Armstrong number"
      ],
      "metadata": {
        "id": "6KaIOIeV9xXh"
      }
    },
    {
      "cell_type": "code",
      "source": [
        "num=int(input(\"Enter a number: \"))\n",
        "sum=0\n",
        "temp=num\n",
        "while temp>0:\n",
        "  digit=temp%10\n",
        "  sum += digit **3\n",
        "  temp //=10\n",
        "if num==sum:\n",
        "  print(num,\"is an Armstrong number\")\n",
        "else:\n",
        "  print(num,\"is not an Armstrong number\")\n"
      ],
      "metadata": {
        "colab": {
          "base_uri": "https://localhost:8080/"
        },
        "id": "QM6trWeR-YKP",
        "outputId": "e7b10946-2115-4db5-db63-0f54f38f7a94"
      },
      "execution_count": 6,
      "outputs": [
        {
          "output_type": "stream",
          "name": "stdout",
          "text": [
            "Enter a number: 407\n",
            "407 is an Armstrong number\n"
          ]
        }
      ]
    },
    {
      "cell_type": "markdown",
      "source": [
        "Prime number or not"
      ],
      "metadata": {
        "id": "yVvXBgENCC0O"
      }
    },
    {
      "cell_type": "code",
      "source": [
        "num=int(input(\"Enter a number: \"))\n",
        "if num==1:\n",
        "  print(num,\"is not a prime number\")\n",
        "elif num>1:\n",
        "  for i in range(2,int(num/2)+1):\n",
        "    if(num%i)==0:\n",
        "      print(num,\"is not a prime number\")\n",
        "      break\n",
        "  else:\n",
        "   print(num,\"is a prime number\")\n",
        "else:\n",
        "  print(num,\"is not a prime number\")\n"
      ],
      "metadata": {
        "colab": {
          "base_uri": "https://localhost:8080/"
        },
        "id": "k7NH8Rk4_FJb",
        "outputId": "2446f08a-1c36-4649-9c01-be435da54c72"
      },
      "execution_count": 8,
      "outputs": [
        {
          "output_type": "stream",
          "name": "stdout",
          "text": [
            "Enter a number: 11\n",
            "11 is a prime number\n"
          ]
        }
      ]
    },
    {
      "cell_type": "markdown",
      "source": [
        "Smallest element in the list"
      ],
      "metadata": {
        "id": "X9AjQRZRCPQu"
      }
    },
    {
      "cell_type": "code",
      "source": [
        "list1=[]\n",
        "num = int(input(\"Enter number of elements in list: \"))\n",
        "for i in range(1,num+1):\n",
        "  ele= int(input(\"Enter elements: \"))\n",
        "  list1.append(ele)\n",
        "print(\"Smallest element is:\",min(list1))\n"
      ],
      "metadata": {
        "colab": {
          "base_uri": "https://localhost:8080/"
        },
        "id": "AhXJQK4kC_rc",
        "outputId": "a8adb9ee-a4fc-4258-bf9c-079326397e43"
      },
      "execution_count": 9,
      "outputs": [
        {
          "output_type": "stream",
          "name": "stdout",
          "text": [
            "Enter number of elements in list: 5\n",
            "Enter elements: 23\n",
            "Enter elements: 35\n",
            "Enter elements: 43\n",
            "Enter elements: 16\n",
            "Enter elements: 37\n",
            "Smallest element is: 16\n"
          ]
        }
      ]
    },
    {
      "cell_type": "markdown",
      "source": [
        "Factorial of a number"
      ],
      "metadata": {
        "id": "aliEausfEBEf"
      }
    },
    {
      "cell_type": "code",
      "source": [
        "n=int(input(\"Enter a number: \"))\n",
        "fact=1\n",
        "while(n>0):\n",
        "  fact=fact*n\n",
        "  n=n-1\n",
        "print(\"Factorial of a number is: \")\n",
        "print(fact)\n"
      ],
      "metadata": {
        "colab": {
          "base_uri": "https://localhost:8080/"
        },
        "id": "lsERVdUxHil4",
        "outputId": "4f052e8d-368a-428b-e143-5cf100c643a8"
      },
      "execution_count": 12,
      "outputs": [
        {
          "output_type": "stream",
          "name": "stdout",
          "text": [
            "Enter a number: 5\n",
            "Factorial of a number is: \n",
            "120\n"
          ]
        }
      ]
    }
  ]
}