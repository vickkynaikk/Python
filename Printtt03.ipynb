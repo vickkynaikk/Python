{
  "nbformat": 4,
  "nbformat_minor": 0,
  "metadata": {
    "colab": {
      "provenance": []
    },
    "kernelspec": {
      "name": "python3",
      "display_name": "Python 3"
    },
    "language_info": {
      "name": "python"
    }
  },
  "cells": [
    {
      "cell_type": "markdown",
      "source": [
        "Bitwise operation"
      ],
      "metadata": {
        "id": "6Y8ddyjf0hNj"
      }
    },
    {
      "cell_type": "code",
      "source": [
        "print(8 & 12)\n",
        "print(0XF & 0XE)"
      ],
      "metadata": {
        "colab": {
          "base_uri": "https://localhost:8080/"
        },
        "id": "i387Mpy30n6b",
        "outputId": "8f5172ca-b0e8-4b13-bf8a-ebca00f9edaa"
      },
      "execution_count": 2,
      "outputs": [
        {
          "output_type": "stream",
          "name": "stdout",
          "text": [
            "8\n",
            "14\n"
          ]
        }
      ]
    },
    {
      "cell_type": "code",
      "source": [
        "print(7 | 15)\n",
        "print(0XA | 0XB)"
      ],
      "metadata": {
        "colab": {
          "base_uri": "https://localhost:8080/"
        },
        "id": "_QomOJJ80tln",
        "outputId": "c7655559-dedc-4040-ac3e-e9154c32d130"
      },
      "execution_count": 3,
      "outputs": [
        {
          "output_type": "stream",
          "name": "stdout",
          "text": [
            "15\n",
            "11\n"
          ]
        }
      ]
    },
    {
      "cell_type": "code",
      "source": [
        "print(4 ^ 7)\n",
        "print(0XA ^  0XC)"
      ],
      "metadata": {
        "colab": {
          "base_uri": "https://localhost:8080/"
        },
        "id": "ZiTbnVFO1V3r",
        "outputId": "b9da72f2-be1f-4950-a039-c3b654d0d486"
      },
      "execution_count": 4,
      "outputs": [
        {
          "output_type": "stream",
          "name": "stdout",
          "text": [
            "3\n",
            "6\n"
          ]
        }
      ]
    },
    {
      "cell_type": "code",
      "source": [
        "print(8>>1)\n",
        "print(8>>2)\n",
        "print(8>>3)\n",
        "print(8>>4)"
      ],
      "metadata": {
        "colab": {
          "base_uri": "https://localhost:8080/"
        },
        "id": "2H0yqKDS1g-O",
        "outputId": "cca6ba67-2cb5-4c7a-e4d2-af651f880840"
      },
      "execution_count": 8,
      "outputs": [
        {
          "output_type": "stream",
          "name": "stdout",
          "text": [
            "4\n",
            "2\n",
            "1\n",
            "0\n"
          ]
        }
      ]
    },
    {
      "cell_type": "code",
      "source": [
        "print(6<<1)\n",
        "print(6<<2)\n",
        "print(6<<3)\n",
        "print(6<<4)"
      ],
      "metadata": {
        "colab": {
          "base_uri": "https://localhost:8080/"
        },
        "id": "g0lVVKGe29dU",
        "outputId": "ba60a14b-cc4c-40dd-bcf9-7cb94f0a662d"
      },
      "execution_count": 7,
      "outputs": [
        {
          "output_type": "stream",
          "name": "stdout",
          "text": [
            "12\n",
            "24\n",
            "48\n",
            "96\n"
          ]
        }
      ]
    },
    {
      "cell_type": "code",
      "source": [],
      "metadata": {
        "id": "5AnilIlT3FgF"
      },
      "execution_count": null,
      "outputs": []
    },
    {
      "cell_type": "markdown",
      "source": [
        "Assignment operation"
      ],
      "metadata": {
        "id": "mG2bW0hR4BbN"
      }
    },
    {
      "cell_type": "code",
      "source": [
        "a=24\n",
        "print(a)\n",
        "a+=35\n",
        "print(a)\n",
        "a-=45\n",
        "print(a)\n",
        "a*=8\n",
        "print(a)\n",
        "a/=4\n",
        "print(a)\n",
        "a%=3\n",
        "print(a)"
      ],
      "metadata": {
        "colab": {
          "base_uri": "https://localhost:8080/"
        },
        "id": "fNnqH5zJ4F8w",
        "outputId": "8f19e475-66a9-4c49-b2bf-3eba1b8b2aef"
      },
      "execution_count": 14,
      "outputs": [
        {
          "output_type": "stream",
          "name": "stdout",
          "text": [
            "24\n",
            "59\n",
            "14\n",
            "112\n",
            "28.0\n",
            "1.0\n"
          ]
        }
      ]
    },
    {
      "cell_type": "code",
      "source": [
        "a=75\n",
        "print(a)\n",
        "a//=5\n",
        "print(a)\n",
        "a**=3\n",
        "print(a)"
      ],
      "metadata": {
        "colab": {
          "base_uri": "https://localhost:8080/"
        },
        "id": "ziOTNwxK4NCe",
        "outputId": "aca42ab1-cc6e-4393-b7ff-4f29d688ca09"
      },
      "execution_count": 18,
      "outputs": [
        {
          "output_type": "stream",
          "name": "stdout",
          "text": [
            "75\n",
            "15\n",
            "3375\n"
          ]
        }
      ]
    },
    {
      "cell_type": "code",
      "source": [
        "a=8\n",
        "print(a)\n",
        "a&=12\n",
        "print(a)\n",
        "a|=4\n",
        "print(a)\n",
        "a>>0XF\n",
        "print(a)\n",
        "a<<=3\n",
        "print(a)"
      ],
      "metadata": {
        "colab": {
          "base_uri": "https://localhost:8080/"
        },
        "id": "mXI6veRW5VsN",
        "outputId": "dc32d210-433d-4582-bc6e-bd06ea98dbeb"
      },
      "execution_count": 25,
      "outputs": [
        {
          "output_type": "stream",
          "name": "stdout",
          "text": [
            "8\n",
            "8\n",
            "12\n",
            "12\n",
            "96\n"
          ]
        }
      ]
    },
    {
      "cell_type": "markdown",
      "source": [
        "Identity and membership operation"
      ],
      "metadata": {
        "id": "ARg-uGgl66w1"
      }
    },
    {
      "cell_type": "code",
      "source": [
        "x=[\"KLETECH\",\"COLLEGE\"]\n",
        "y=[\"KLETECH\",\"COLLEGE\"]\n",
        "z=x\n",
        "z=y\n",
        "print(z is x)\n",
        "print(y is x)\n",
        "print(y is z)\n"
      ],
      "metadata": {
        "colab": {
          "base_uri": "https://localhost:8080/"
        },
        "id": "9Bly5Vxi7AV1",
        "outputId": "d0e9e939-46d4-4017-d016-6958cf1d83e4"
      },
      "execution_count": 26,
      "outputs": [
        {
          "output_type": "stream",
          "name": "stdout",
          "text": [
            "False\n",
            "False\n",
            "True\n"
          ]
        }
      ]
    },
    {
      "cell_type": "code",
      "source": [
        "x=[\"KLETECH\",\"COLLEGE\"]\n",
        "y=[\"KLETECH\",\"COLLEGE\"]\n",
        "z=x\n",
        "z=y\n",
        "print(z is not x)\n",
        "print(y is not z)"
      ],
      "metadata": {
        "colab": {
          "base_uri": "https://localhost:8080/"
        },
        "id": "Cq-qpOYr7rQi",
        "outputId": "6dff3848-5f14-4c72-e836-ef63c2af5fb8"
      },
      "execution_count": 27,
      "outputs": [
        {
          "output_type": "stream",
          "name": "stdout",
          "text": [
            "True\n",
            "False\n"
          ]
        }
      ]
    },
    {
      "cell_type": "code",
      "source": [
        "x=[\"KLETECH\",\"COLLEGE\"]\n",
        "y=[\"KLETECH\",\"COLLEGE\"]\n",
        "print(\"COLLEGE\" in x)\n",
        "print(\"HUBLI\" in y)"
      ],
      "metadata": {
        "colab": {
          "base_uri": "https://localhost:8080/"
        },
        "id": "EWXt4x4876xe",
        "outputId": "98fb7d6c-f3fa-4d64-e54a-26275fc6560f"
      },
      "execution_count": 28,
      "outputs": [
        {
          "output_type": "stream",
          "name": "stdout",
          "text": [
            "True\n",
            "False\n"
          ]
        }
      ]
    },
    {
      "cell_type": "markdown",
      "source": [
        "While loop For loop conditions"
      ],
      "metadata": {
        "id": "Llew7XKS8v1l"
      }
    },
    {
      "cell_type": "code",
      "source": [
        "num=int(input(\"Enter the number\"))\n",
        "while num<=9:\n",
        "  print(\"Number is single digit\")\n",
        "  break\n",
        "while num>9 and num<=99:\n",
        "  print(\"Number is double digit\")\n",
        "  break\n",
        "while num>99 and num<=999:\n",
        "  print(\"Number is triple digit\")\n",
        "  break"
      ],
      "metadata": {
        "colab": {
          "base_uri": "https://localhost:8080/"
        },
        "id": "aZmBiI1J82FS",
        "outputId": "8b018143-93b7-4b21-8a0c-9cf66f3e4d00"
      },
      "execution_count": 29,
      "outputs": [
        {
          "output_type": "stream",
          "name": "stdout",
          "text": [
            "Enter the number 36\n",
            "Number is double digit\n"
          ]
        }
      ]
    },
    {
      "cell_type": "code",
      "source": [
        "for x in range(7):\n",
        "  print(x)"
      ],
      "metadata": {
        "colab": {
          "base_uri": "https://localhost:8080/"
        },
        "id": "Sj1_34T_9e1J",
        "outputId": "58a4ab16-4b5e-4b83-8eb4-23d247de917c"
      },
      "execution_count": 30,
      "outputs": [
        {
          "output_type": "stream",
          "name": "stdout",
          "text": [
            "0\n",
            "1\n",
            "2\n",
            "3\n",
            "4\n",
            "5\n",
            "6\n"
          ]
        }
      ]
    },
    {
      "cell_type": "code",
      "source": [
        "for x in range(3,9):\n",
        "  print(x)"
      ],
      "metadata": {
        "colab": {
          "base_uri": "https://localhost:8080/"
        },
        "id": "zsO2Trcv9_yd",
        "outputId": "39ebc503-f0b4-4b2d-9ab5-5b7299e13fc7"
      },
      "execution_count": 32,
      "outputs": [
        {
          "output_type": "stream",
          "name": "stdout",
          "text": [
            "3\n",
            "4\n",
            "5\n",
            "6\n",
            "7\n",
            "8\n"
          ]
        }
      ]
    },
    {
      "cell_type": "code",
      "source": [
        "for x in range(4,20,2):\n",
        "  print(x)"
      ],
      "metadata": {
        "colab": {
          "base_uri": "https://localhost:8080/"
        },
        "id": "Prib4isE-Lgi",
        "outputId": "db28bed2-8f3e-4ca2-b354-d476471cbd13"
      },
      "execution_count": 33,
      "outputs": [
        {
          "output_type": "stream",
          "name": "stdout",
          "text": [
            "4\n",
            "6\n",
            "8\n",
            "10\n",
            "12\n",
            "14\n",
            "16\n",
            "18\n"
          ]
        }
      ]
    },
    {
      "cell_type": "code",
      "source": [
        "for x in range(5,9):\n",
        "  print(\"SINGLE DIGIT NUMBER\")\n",
        "for x in range(0,99,10):\n",
        "  print(\"DOUBLE DIGIT NUMBER\")\n"
      ],
      "metadata": {
        "colab": {
          "base_uri": "https://localhost:8080/"
        },
        "id": "c8i23_qw-eA5",
        "outputId": "73783946-a745-46ba-8f33-0da5cf7a17a2"
      },
      "execution_count": 38,
      "outputs": [
        {
          "output_type": "stream",
          "name": "stdout",
          "text": [
            "SINGLE DIGIT NUMBER\n",
            "SINGLE DIGIT NUMBER\n",
            "SINGLE DIGIT NUMBER\n",
            "SINGLE DIGIT NUMBER\n",
            "DOUBLE DIGIT NUMBER\n",
            "DOUBLE DIGIT NUMBER\n",
            "DOUBLE DIGIT NUMBER\n",
            "DOUBLE DIGIT NUMBER\n",
            "DOUBLE DIGIT NUMBER\n",
            "DOUBLE DIGIT NUMBER\n",
            "DOUBLE DIGIT NUMBER\n",
            "DOUBLE DIGIT NUMBER\n",
            "DOUBLE DIGIT NUMBER\n",
            "DOUBLE DIGIT NUMBER\n"
          ]
        }
      ]
    },
    {
      "cell_type": "code",
      "source": [
        "places= [\"hubli\",\"belgaum\",\"bangalore\"]\n",
        "for x in places:\n",
        "  print(x)\n",
        "  if x==\"belgaum\":\n",
        "    print(\"found\")\n",
        "  break"
      ],
      "metadata": {
        "colab": {
          "base_uri": "https://localhost:8080/"
        },
        "id": "r4rAv1ba_J6Y",
        "outputId": "8d238fe4-8b02-4c33-e6cb-61d8bb5730a1"
      },
      "execution_count": 45,
      "outputs": [
        {
          "output_type": "stream",
          "name": "stdout",
          "text": [
            "hubli\n"
          ]
        }
      ]
    },
    {
      "cell_type": "code",
      "source": [],
      "metadata": {
        "id": "h2IYHfdc_5tB"
      },
      "execution_count": null,
      "outputs": []
    }
  ]
}