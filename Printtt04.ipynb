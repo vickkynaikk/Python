{
  "nbformat": 4,
  "nbformat_minor": 0,
  "metadata": {
    "colab": {
      "provenance": []
    },
    "kernelspec": {
      "name": "python3",
      "display_name": "Python 3"
    },
    "language_info": {
      "name": "python"
    }
  },
  "cells": [
    {
      "cell_type": "code",
      "execution_count": null,
      "metadata": {
        "id": "5O7cfqhEd-gV"
      },
      "outputs": [],
      "source": []
    },
    {
      "cell_type": "markdown",
      "source": [
        "Functions\n",
        "1. Define the function\n",
        "2. Invoking the function\n",
        "3. Passing the arguements"
      ],
      "metadata": {
        "id": "XzOjLHb0iECg"
      }
    },
    {
      "cell_type": "code",
      "source": [
        "def cake_baker():\n",
        "  print(\"I am ready to bake the cake\")\n",
        "\n",
        "cake_baker()"
      ],
      "metadata": {
        "colab": {
          "base_uri": "https://localhost:8080/"
        },
        "id": "-rymuyHviRmQ",
        "outputId": "9343a376-0abb-428c-d3b4-70f644cad947"
      },
      "execution_count": 4,
      "outputs": [
        {
          "output_type": "stream",
          "name": "stdout",
          "text": [
            "I am ready to bake the cake\n"
          ]
        }
      ]
    },
    {
      "cell_type": "code",
      "source": [
        "def cake_baker(p,f,s):\n",
        "  print(\"No of pieces =\", p)\n",
        "  print(\"Flavour is =\", f)\n",
        "  print(\"Size is =\", s)\n",
        "\n",
        "cake_baker(\"5\",\"Chocolate\",\"5kg\")\n",
        "cake_baker(\"2\",\"Mangooo\",\"2kg\")"
      ],
      "metadata": {
        "colab": {
          "base_uri": "https://localhost:8080/"
        },
        "id": "Swles4_niUrb",
        "outputId": "f0870e91-5936-4203-84a4-d3db693dd47d"
      },
      "execution_count": 8,
      "outputs": [
        {
          "output_type": "stream",
          "name": "stdout",
          "text": [
            "No of pieces = 5\n",
            "Flavour is = Chocolate\n",
            "Size is = 5kg\n",
            "No of pieces = 2\n",
            "Flavour is = Mangooo\n",
            "Size is = 2kg\n"
          ]
        }
      ]
    },
    {
      "cell_type": "code",
      "source": [
        "def add(*args):\n",
        "  sum=0\n",
        "  for i in args:\n",
        "    sum=sum+i\n",
        "  return sum\n",
        "print(add(1,2,3,4,5))"
      ],
      "metadata": {
        "colab": {
          "base_uri": "https://localhost:8080/"
        },
        "id": "T19nEA4Kmj5B",
        "outputId": "737e87d5-a4e0-4f24-8b5c-2b830fae2c37"
      },
      "execution_count": 28,
      "outputs": [
        {
          "output_type": "stream",
          "name": "stdout",
          "text": [
            "15\n"
          ]
        }
      ]
    },
    {
      "cell_type": "code",
      "source": [
        "def greet(**kwargs):\n",
        "  print(\"HELLO\")\n",
        "  for key, value in kwargs.items():\n",
        "    print(value, end=\" \")\n",
        "\n",
        "greet(name=\"Vickyyy\", usn=\"01fe21bec003\", branch=\"ECE\")"
      ],
      "metadata": {
        "colab": {
          "base_uri": "https://localhost:8080/"
        },
        "id": "JtOgip9Jmyef",
        "outputId": "79a0c371-e56d-4329-d06f-50d9a8b584ba"
      },
      "execution_count": 32,
      "outputs": [
        {
          "output_type": "stream",
          "name": "stdout",
          "text": [
            "HELLO\n",
            "Vickyyy 01fe21bec003 ECE "
          ]
        }
      ]
    },
    {
      "cell_type": "code",
      "source": [
        "import random\n",
        "x=random.randint(1,24)\n",
        "print(x)\n",
        "\n",
        "a=random.random()\n",
        "print(a)"
      ],
      "metadata": {
        "colab": {
          "base_uri": "https://localhost:8080/"
        },
        "id": "eDLSIP2Sovri",
        "outputId": "06b1f750-0f20-4849-9e1a-daa2ddc01251"
      },
      "execution_count": 34,
      "outputs": [
        {
          "output_type": "stream",
          "name": "stdout",
          "text": [
            "10\n",
            "0.598631388248478\n"
          ]
        }
      ]
    },
    {
      "cell_type": "code",
      "source": [
        "import random\n",
        "computer=random.randint(1,99)\n",
        "userinput=int(input(\"Enter the number between 1 and 99\"))\n",
        "print(computer)\n",
        "print(userinput)\n",
        "\n",
        "if computer>userinput:\n",
        "  print(\"Computer WON\")\n",
        "elif computer==userinput:\n",
        "  print(\"TIE\")\n",
        "else:\n",
        "  print(\"You WON\")"
      ],
      "metadata": {
        "colab": {
          "base_uri": "https://localhost:8080/"
        },
        "id": "mLvBEiuqp3mn",
        "outputId": "fb2db8b6-e940-44d9-9834-7ee83a90d3bc"
      },
      "execution_count": 37,
      "outputs": [
        {
          "output_type": "stream",
          "name": "stdout",
          "text": [
            "Enter the number between 1 and 99 26\n",
            "72\n",
            "26\n",
            "Computer WON\n"
          ]
        }
      ]
    },
    {
      "cell_type": "code",
      "source": [
        "import random\n",
        "gamelist=['rock','paper','scissors']\n",
        "comp=random.choice(gamelist)\n",
        "user=input(\"Enter either rock or paper or scissors: \")\n",
        "print(comp)\n",
        "print(user)\n",
        "\n",
        "if (comp==\"rock\" and user==\"paper\"):\n",
        "  print(\"You won\")\n",
        "elif (comp==\"rock\" and user==\"scissors\"):\n",
        "  print(\"Computer won\")\n",
        "elif (comp==\"paper\" and user==\"rock\"):\n",
        "  print(\"Computer won\")\n",
        "elif (comp==\"paper\" and user==\"scissors\"):\n",
        "  print(\"You won\")\n",
        "elif (comp==\"scissors\" and user==\"rock\"):\n",
        "  print(\"You won\")\n",
        "elif(comp==\"scissors\" and user==\"paper\"):\n",
        "  print(\"Computer won\")\n",
        "\n",
        "else:\n",
        "  print(\"TIE\")"
      ],
      "metadata": {
        "colab": {
          "base_uri": "https://localhost:8080/"
        },
        "id": "mnbgh7m1tlGc",
        "outputId": "3ed72080-918c-4ca0-9cc6-6c841351499a"
      },
      "execution_count": 47,
      "outputs": [
        {
          "output_type": "stream",
          "name": "stdout",
          "text": [
            "Enter either rock or paper or scissors: paper\n",
            "scissors\n",
            "paper\n",
            "Computer won\n"
          ]
        }
      ]
    },
    {
      "cell_type": "markdown",
      "source": [
        "NumPy - Numerical Python"
      ],
      "metadata": {
        "id": "b3nj1XL-v5tP"
      }
    },
    {
      "cell_type": "code",
      "source": [
        "import numpy as np"
      ],
      "metadata": {
        "id": "FmHn64Vvw2a2"
      },
      "execution_count": 50,
      "outputs": []
    },
    {
      "cell_type": "code",
      "source": [
        "a=np.array([35,4,56,34,27,53,46])\n",
        "print(type(a))"
      ],
      "metadata": {
        "colab": {
          "base_uri": "https://localhost:8080/"
        },
        "id": "WtlQP9eSxGNr",
        "outputId": "957f7d57-d3eb-47a4-ed49-1668047841a0"
      },
      "execution_count": 52,
      "outputs": [
        {
          "output_type": "stream",
          "name": "stdout",
          "text": [
            "<class 'numpy.ndarray'>\n"
          ]
        }
      ]
    },
    {
      "cell_type": "code",
      "source": [
        "b= np.zeros(3)\n",
        "c= np.ones(4)\n",
        "\n",
        "print(b)\n",
        "print(c)"
      ],
      "metadata": {
        "colab": {
          "base_uri": "https://localhost:8080/"
        },
        "id": "xPSsLtIFxRoz",
        "outputId": "5f0bfa0c-646a-4cb5-eacf-02107a814ec3"
      },
      "execution_count": 56,
      "outputs": [
        {
          "output_type": "stream",
          "name": "stdout",
          "text": [
            "[0. 0. 0.]\n",
            "[1. 1. 1. 1.]\n"
          ]
        }
      ]
    },
    {
      "cell_type": "code",
      "source": [
        "d=np.sort(a)\n",
        "print(d)"
      ],
      "metadata": {
        "colab": {
          "base_uri": "https://localhost:8080/"
        },
        "id": "tUOlzV3UxmTJ",
        "outputId": "9dcbc3cc-3e94-48f7-d061-51569d7f6240"
      },
      "execution_count": 57,
      "outputs": [
        {
          "output_type": "stream",
          "name": "stdout",
          "text": [
            "[ 4 27 34 35 46 53 56]\n"
          ]
        }
      ]
    },
    {
      "cell_type": "code",
      "source": [],
      "metadata": {
        "id": "nICYcqwvyCEX"
      },
      "execution_count": null,
      "outputs": []
    }
  ]
}