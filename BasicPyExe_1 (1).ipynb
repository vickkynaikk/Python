{
  "nbformat": 4,
  "nbformat_minor": 0,
  "metadata": {
    "colab": {
      "provenance": []
    },
    "kernelspec": {
      "name": "python3",
      "display_name": "Python 3"
    },
    "language_info": {
      "name": "python"
    }
  },
  "cells": [
    {
      "cell_type": "markdown",
      "source": [
        "**Basic Python exercise-I**\n",
        "\n",
        "1.Read a CSV file with data in multiple columns and compute mean, median mode of each of the columns.\n",
        "\n",
        "2.Plot each of the columns with different colors (check what kind of graph is suitable)"
      ],
      "metadata": {
        "id": "CxEizEthH0ga"
      }
    },
    {
      "cell_type": "code",
      "source": [],
      "metadata": {
        "id": "2w3iZ5fu31rA"
      },
      "execution_count": null,
      "outputs": []
    },
    {
      "cell_type": "code",
      "source": [
        "import pandas as pd\n",
        "import matplotlib.pyplot as plt\n",
        "\n",
        "data=pd.read_csv('/content/homes.csv')\n",
        "print(data. to_string())\n",
        "data.plot()\n",
        "plt.show()"
      ],
      "metadata": {
        "id": "uaTZePtj-eAb",
        "colab": {
          "base_uri": "https://localhost:8080/",
          "height": 1000
        },
        "outputId": "abe883af-0791-4c3d-dd2e-623d6230cc1a"
      },
      "execution_count": 12,
      "outputs": [
        {
          "output_type": "stream",
          "name": "stdout",
          "text": [
            "    Sell   \"List\"   \"Living\"   \"Rooms\"   \"Beds\"   \"Baths\"   \"Age\"   \"Acres\"   \"Taxes\"\n",
            "0    142      160         28        10        5         3      60      0.28      3167\n",
            "1    175      180         18         8        4         1      12      0.43      4033\n",
            "2    129      132         13         6        3         1      41      0.33      1471\n",
            "3    138      140         17         7        3         1      22      0.46      3204\n",
            "4    232      240         25         8        4         3       5      2.05      3613\n",
            "5    135      140         18         7        4         3       9      0.57      3028\n",
            "6    150      160         20         8        4         3      18      4.00      3131\n",
            "7    207      225         22         8        4         2      16      2.22      5158\n",
            "8    271      285         30        10        5         2      30      0.53      5702\n",
            "9     89       90         10         5        3         1      43      0.30      2054\n",
            "10   153      157         22         8        3         3      18      0.38      4127\n",
            "11    87       90         16         7        3         1      50      0.65      1445\n",
            "12   234      238         25         8        4         2       2      1.61      2087\n",
            "13   106      116         20         8        4         1      13      0.22      2818\n",
            "14   175      180         22         8        4         2      15      2.06      3917\n",
            "15   165      170         17         8        4         2      33      0.46      2220\n",
            "16   166      170         23         9        4         2      37      0.27      3498\n",
            "17   136      140         19         7        3         1      22      0.63      3607\n",
            "18   148      160         17         7        3         2      13      0.36      3648\n",
            "19   151      153         19         8        4         2      24      0.34      3561\n",
            "20   180      190         24         9        4         2      10      1.55      4681\n",
            "21   293      305         26         8        4         3       6      0.46      7088\n",
            "22   167      170         20         9        4         2      46      0.46      3482\n",
            "23   190      193         22         9        5         2      37      0.48      3920\n",
            "24   184      190         21         9        5         2      27      1.30      4162\n",
            "25   157      165         20         8        4         2       7      0.30      3785\n",
            "26   110      115         16         8        4         1      26      0.29      3103\n",
            "27   135      145         18         7        4         1      35      0.43      3363\n",
            "28   567      625         64        11        4         4       4      0.85     12192\n",
            "29   180      185         20         8        4         2      11      1.00      3831\n",
            "30   183      188         17         7        3         2      16      3.00      3564\n",
            "31   185      193         20         9        3         2      56      6.49      3765\n",
            "32   152      155         17         8        4         1      33      0.70      3361\n",
            "33   148      153         13         6        3         2      22      0.39      3950\n",
            "34   152      159         15         7        3         1      25      0.59      3055\n",
            "35   146      150         16         7        3         1      31      0.36      2950\n",
            "36   170      190         24        10        3         2      33      0.57      3346\n",
            "37   127      130         20         8        4         1      65      0.40      3334\n",
            "38   265      270         36        10        6         3      33      1.20      5853\n",
            "39   157      163         18         8        4         2      12      1.13      3982\n",
            "40   128      135         17         9        4         1      25      0.52      3374\n",
            "41   110      120         15         8        4         2      11      0.59      3119\n",
            "42   123      130         18         8        4         2      43      0.39      3268\n",
            "43   212      230         39        12        5         3     202      4.29      3648\n",
            "44   145      145         18         8        4         2      44      0.22      2783\n",
            "45   129      135         10         6        3         1      15      1.00      2438\n",
            "46   143      145         21         7        4         2      10      1.20      3529\n",
            "47   247      252         29         9        4         2       4      1.25      4626\n",
            "48   111      120         15         8        3         1      97      1.11      3205\n",
            "49   133      145         26         7        3         1      42      0.36      3059\n"
          ]
        },
        {
          "output_type": "display_data",
          "data": {
            "text/plain": [
              "<Figure size 640x480 with 1 Axes>"
            ],
            "image/png": "[encoded data removed]"
          },
          "metadata": {}
        }
      ]
    },
    {
      "cell_type": "code",
      "source": [
        "data=pd.read_csv('/content/homes.csv')\n",
        "data.mean()"
      ],
      "metadata": {
        "colab": {
          "base_uri": "https://localhost:8080/"
        },
        "id": "P75tPDzbFtXN",
        "outputId": "462d161b-5e66-4d14-e677-31aebb84e68f"
      },
      "execution_count": 13,
      "outputs": [
        {
          "output_type": "execute_result",
          "data": {
            "text/plain": [
              "Sell          170.3600\n",
              " \"List\"       178.3400\n",
              " \"Living\"      21.1200\n",
              " \"Rooms\"        8.0600\n",
              " \"Beds\"         3.8200\n",
              " \"Baths\"        1.8600\n",
              " \"Age\"         30.2200\n",
              " \"Acres\"        1.0206\n",
              " \"Taxes\"     3706.1000\n",
              "dtype: float64"
            ]
          },
          "metadata": {},
          "execution_count": 13
        }
      ]
    },
    {
      "cell_type": "code",
      "source": [
        "data=pd.read_csv('/content/homes.csv')\n",
        "data.median()"
      ],
      "metadata": {
        "colab": {
          "base_uri": "https://localhost:8080/"
        },
        "id": "ow80nErxFyer",
        "outputId": "3a01f407-992e-43d5-9778-8b0be33c4761"
      },
      "execution_count": 14,
      "outputs": [
        {
          "output_type": "execute_result",
          "data": {
            "text/plain": [
              "Sell          152.00\n",
              " \"List\"       160.00\n",
              " \"Living\"      20.00\n",
              " \"Rooms\"        8.00\n",
              " \"Beds\"         4.00\n",
              " \"Baths\"        2.00\n",
              " \"Age\"         24.50\n",
              " \"Acres\"        0.55\n",
              " \"Taxes\"     3490.00\n",
              "dtype: float64"
            ]
          },
          "metadata": {},
          "execution_count": 14
        }
      ]
    },
    {
      "cell_type": "code",
      "source": [
        "data=pd.read_csv('/content/homes.csv')\n",
        "data.mode()"
      ],
      "metadata": {
        "id": "onpFkjtV5fRD",
        "outputId": "2e2fb1e7-908c-4b35-eb6d-6eb9d9a8cf51",
        "colab": {
          "base_uri": "https://localhost:8080/",
          "height": 300
        }
      },
      "execution_count": 15,
      "outputs": [
        {
          "output_type": "execute_result",
          "data": {
            "text/plain": [
              "   Sell   \"List\"   \"Living\"   \"Rooms\"   \"Beds\"   \"Baths\"   \"Age\"   \"Acres\"  \\\n",
              "0   110    145.0       20.0       8.0      4.0       2.0    33.0      0.46   \n",
              "1   129      NaN        NaN       NaN      NaN       NaN     NaN       NaN   \n",
              "2   135      NaN        NaN       NaN      NaN       NaN     NaN       NaN   \n",
              "3   148      NaN        NaN       NaN      NaN       NaN     NaN       NaN   \n",
              "4   152      NaN        NaN       NaN      NaN       NaN     NaN       NaN   \n",
              "5   157      NaN        NaN       NaN      NaN       NaN     NaN       NaN   \n",
              "6   175      NaN        NaN       NaN      NaN       NaN     NaN       NaN   \n",
              "7   180      NaN        NaN       NaN      NaN       NaN     NaN       NaN   \n",
              "\n",
              "    \"Taxes\"  \n",
              "0    3648.0  \n",
              "1       NaN  \n",
              "2       NaN  \n",
              "3       NaN  \n",
              "4       NaN  \n",
              "5       NaN  \n",
              "6       NaN  \n",
              "7       NaN  "
            ],
            "text/html": [
              "\n",
              "  <div id=\"df-e1d2f41e-33cb-484f-a742-6949bd3f9b63\" class=\"colab-df-container\">\n",
              "    <div>\n",
              "<style scoped>\n",
              "    .dataframe tbody tr th:only-of-type {\n",
              "        vertical-align: middle;\n",
              "    }\n",
              "\n",
              "    .dataframe tbody tr th {\n",
              "        vertical-align: top;\n",
              "    }\n",
              "\n",
              "    .dataframe thead th {\n",
              "        text-align: right;\n",
              "    }\n",
              "</style>\n",
              "<table border=\"1\" class=\"dataframe\">\n",
              "  <thead>\n",
              "    <tr style=\"text-align: right;\">\n",
              "      <th></th>\n",
              "      <th>Sell</th>\n",
              "      <th>\"List\"</th>\n",
              "      <th>\"Living\"</th>\n",
              "      <th>\"Rooms\"</th>\n",
              "      <th>\"Beds\"</th>\n",
              "      <th>\"Baths\"</th>\n",
              "      <th>\"Age\"</th>\n",
              "      <th>\"Acres\"</th>\n",
              "      <th>\"Taxes\"</th>\n",
              "    </tr>\n",
              "  </thead>\n",
              "  <tbody>\n",
              "    <tr>\n",
              "      <th>0</th>\n",
              "      <td>110</td>\n",
              "      <td>145.0</td>\n",
              "      <td>20.0</td>\n",
              "      <td>8.0</td>\n",
              "      <td>4.0</td>\n",
              "      <td>2.0</td>\n",
              "      <td>33.0</td>\n",
              "      <td>0.46</td>\n",
              "      <td>3648.0</td>\n",
              "    </tr>\n",
              "    <tr>\n",
              "      <th>1</th>\n",
              "      <td>129</td>\n",
              "      <td>NaN</td>\n",
              "      <td>NaN</td>\n",
              "      <td>NaN</td>\n",
              "      <td>NaN</td>\n",
              "      <td>NaN</td>\n",
              "      <td>NaN</td>\n",
              "      <td>NaN</td>\n",
              "      <td>NaN</td>\n",
              "    </tr>\n",
              "    <tr>\n",
              "      <th>2</th>\n",
              "      <td>135</td>\n",
              "      <td>NaN</td>\n",
              "      <td>NaN</td>\n",
              "      <td>NaN</td>\n",
              "      <td>NaN</td>\n",
              "      <td>NaN</td>\n",
              "      <td>NaN</td>\n",
              "      <td>NaN</td>\n",
              "      <td>NaN</td>\n",
              "    </tr>\n",
              "    <tr>\n",
              "      <th>3</th>\n",
              "      <td>148</td>\n",
              "      <td>NaN</td>\n",
              "      <td>NaN</td>\n",
              "      <td>NaN</td>\n",
              "      <td>NaN</td>\n",
              "      <td>NaN</td>\n",
              "      <td>NaN</td>\n",
              "      <td>NaN</td>\n",
              "      <td>NaN</td>\n",
              "    </tr>\n",
              "    <tr>\n",
              "      <th>4</th>\n",
              "      <td>152</td>\n",
              "      <td>NaN</td>\n",
              "      <td>NaN</td>\n",
              "      <td>NaN</td>\n",
              "      <td>NaN</td>\n",
              "      <td>NaN</td>\n",
              "      <td>NaN</td>\n",
              "      <td>NaN</td>\n",
              "      <td>NaN</td>\n",
              "    </tr>\n",
              "    <tr>\n",
              "      <th>5</th>\n",
              "      <td>157</td>\n",
              "      <td>NaN</td>\n",
              "      <td>NaN</td>\n",
              "      <td>NaN</td>\n",
              "      <td>NaN</td>\n",
              "      <td>NaN</td>\n",
              "      <td>NaN</td>\n",
              "      <td>NaN</td>\n",
              "      <td>NaN</td>\n",
              "    </tr>\n",
              "    <tr>\n",
              "      <th>6</th>\n",
              "      <td>175</td>\n",
              "      <td>NaN</td>\n",
              "      <td>NaN</td>\n",
              "      <td>NaN</td>\n",
              "      <td>NaN</td>\n",
              "      <td>NaN</td>\n",
              "      <td>NaN</td>\n",
              "      <td>NaN</td>\n",
              "      <td>NaN</td>\n",
              "    </tr>\n",
              "    <tr>\n",
              "      <th>7</th>\n",
              "      <td>180</td>\n",
              "      <td>NaN</td>\n",
              "      <td>NaN</td>\n",
              "      <td>NaN</td>\n",
              "      <td>NaN</td>\n",
              "      <td>NaN</td>\n",
              "      <td>NaN</td>\n",
              "      <td>NaN</td>\n",
              "      <td>NaN</td>\n",
              "    </tr>\n",
              "  </tbody>\n",
              "</table>\n",
              "</div>\n",
              "    <div class=\"colab-df-buttons\">\n",
              "\n",
              "  <div class=\"colab-df-container\">\n",
              "    <button class=\"colab-df-convert\" onclick=\"convertToInteractive('df-e1d2f41e-33cb-484f-a742-6949bd3f9b63')\"\n",
              "            title=\"Convert this dataframe to an interactive table.\"\n",
              "            style=\"display:none;\">\n",
              "\n",
              "  <svg xmlns=\"http://www.w3.org/2000/svg\" height=\"24px\" viewBox=\"0 -960 960 960\">\n",
              "    <path d=\"M120-120v-720h720v720H120Zm60-500h600v-160H180v160Zm220 220h160v-160H400v160Zm0 220h160v-160H400v160ZM180-400h160v-160H180v160Zm440 0h160v-160H620v160ZM180-180h160v-160H180v160Zm440 0h160v-160H620v160Z\"/>\n",
              "  </svg>\n",
              "    </button>\n",
              "\n",
              "  <style>\n",
              "    .colab-df-container {\n",
              "      display:flex;\n",
              "      gap: 12px;\n",
              "    }\n",
              "\n",
              "    .colab-df-convert {\n",
              "      background-color: #E8F0FE;\n",
              "      border: none;\n",
              "      border-radius: 50%;\n",
              "      cursor: pointer;\n",
              "      display: none;\n",
              "      fill: #1967D2;\n",
              "      height: 32px;\n",
              "      padding: 0 0 0 0;\n",
              "      width: 32px;\n",
              "    }\n",
              "\n",
              "    .colab-df-convert:hover {\n",
              "      background-color: #E2EBFA;\n",
              "      box-shadow: 0px 1px 2px rgba(60, 64, 67, 0.3), 0px 1px 3px 1px rgba(60, 64, 67, 0.15);\n",
              "      fill: #174EA6;\n",
              "    }\n",
              "\n",
              "    .colab-df-buttons div {\n",
              "      margin-bottom: 4px;\n",
              "    }\n",
              "\n",
              "    [theme=dark] .colab-df-convert {\n",
              "      background-color: #3B4455;\n",
              "      fill: #D2E3FC;\n",
              "    }\n",
              "\n",
              "    [theme=dark] .colab-df-convert:hover {\n",
              "      background-color: #434B5C;\n",
              "      box-shadow: 0px 1px 3px 1px rgba(0, 0, 0, 0.15);\n",
              "      filter: drop-shadow(0px 1px 2px rgba(0, 0, 0, 0.3));\n",
              "      fill: #FFFFFF;\n",
              "    }\n",
              "  </style>\n",
              "\n",
              "    <script>\n",
              "      const buttonEl =\n",
              "        document.querySelector('#df-e1d2f41e-33cb-484f-a742-6949bd3f9b63 button.colab-df-convert');\n",
              "      buttonEl.style.display =\n",
              "        google.colab.kernel.accessAllowed ? 'block' : 'none';\n",
              "\n",
              "      async function convertToInteractive(key) {\n",
              "        const element = document.querySelector('#df-e1d2f41e-33cb-484f-a742-6949bd3f9b63');\n",
              "        const dataTable =\n",
              "          await google.colab.kernel.invokeFunction('convertToInteractive',\n",
              "                                                    [key], {});\n",
              "        if (!dataTable) return;\n",
              "\n",
              "        const docLinkHtml = 'Like what you see? Visit the ' +\n",
              "          '<a target=\"_blank\" href=https://colab.research.google.com/notebooks/data_table.ipynb>data table notebook</a>'\n",
              "          + ' to learn more about interactive tables.';\n",
              "        element.innerHTML = '';\n",
              "        dataTable['output_type'] = 'display_data';\n",
              "        await google.colab.output.renderOutput(dataTable, element);\n",
              "        const docLink = document.createElement('div');\n",
              "        docLink.innerHTML = docLinkHtml;\n",
              "        element.appendChild(docLink);\n",
              "      }\n",
              "    </script>\n",
              "  </div>\n",
              "\n",
              "\n",
              "<div id=\"df-2b609f79-d051-49e1-8ddb-a4eeae6e4112\">\n",
              "  <button class=\"colab-df-quickchart\" onclick=\"quickchart('df-2b609f79-d051-49e1-8ddb-a4eeae6e4112')\"\n",
              "            title=\"Suggest charts.\"\n",
              "            style=\"display:none;\">\n",
              "\n",
              "<svg xmlns=\"http://www.w3.org/2000/svg\" height=\"24px\"viewBox=\"0 0 24 24\"\n",
              "     width=\"24px\">\n",
              "    <g>\n",
              "        <path d=\"M19 3H5c-1.1 0-2 .9-2 2v14c0 1.1.9 2 2 2h14c1.1 0 2-.9 2-2V5c0-1.1-.9-2-2-2zM9 17H7v-7h2v7zm4 0h-2V7h2v10zm4 0h-2v-4h2v4z\"/>\n",
              "    </g>\n",
              "</svg>\n",
              "  </button>\n",
              "\n",
              "<style>\n",
              "  .colab-df-quickchart {\n",
              "    background-color: #E8F0FE;\n",
              "    border: none;\n",
              "    border-radius: 50%;\n",
              "    cursor: pointer;\n",
              "    display: none;\n",
              "    fill: #1967D2;\n",
              "    height: 32px;\n",
              "    padding: 0 0 0 0;\n",
              "    width: 32px;\n",
              "  }\n",
              "\n",
              "  .colab-df-quickchart:hover {\n",
              "    background-color: #E2EBFA;\n",
              "    box-shadow: 0px 1px 2px rgba(60, 64, 67, 0.3), 0px 1px 3px 1px rgba(60, 64, 67, 0.15);\n",
              "    fill: #174EA6;\n",
              "  }\n",
              "\n",
              "  [theme=dark] .colab-df-quickchart {\n",
              "    background-color: #3B4455;\n",
              "    fill: #D2E3FC;\n",
              "  }\n",
              "\n",
              "  [theme=dark] .colab-df-quickchart:hover {\n",
              "    background-color: #434B5C;\n",
              "    box-shadow: 0px 1px 3px 1px rgba(0, 0, 0, 0.15);\n",
              "    filter: drop-shadow(0px 1px 2px rgba(0, 0, 0, 0.3));\n",
              "    fill: #FFFFFF;\n",
              "  }\n",
              "</style>\n",
              "\n",
              "  <script>\n",
              "    async function quickchart(key) {\n",
              "      const charts = await google.colab.kernel.invokeFunction(\n",
              "          'suggestCharts', [key], {});\n",
              "    }\n",
              "    (() => {\n",
              "      let quickchartButtonEl =\n",
              "        document.querySelector('#df-2b609f79-d051-49e1-8ddb-a4eeae6e4112 button');\n",
              "      quickchartButtonEl.style.display =\n",
              "        google.colab.kernel.accessAllowed ? 'block' : 'none';\n",
              "    })();\n",
              "  </script>\n",
              "</div>\n",
              "    </div>\n",
              "  </div>\n"
            ]
          },
          "metadata": {},
          "execution_count": 15
        }
      ]
    },
    {
      "cell_type": "code",
      "source": [
        "data=pd.read_csv('/content/homes.csv')\n",
        "data.plot(kind='bar')"
      ],
      "metadata": {
        "colab": {
          "base_uri": "https://localhost:8080/",
          "height": 451
        },
        "id": "sJkf1y3JIqZ6",
        "outputId": "3515ad5e-4d22-4bf0-c6c2-f88d8a75549f"
      },
      "execution_count": 19,
      "outputs": [
        {
          "output_type": "execute_result",
          "data": {
            "text/plain": [
              "<Axes: >"
            ]
          },
          "metadata": {},
          "execution_count": 19
        },
        {
          "output_type": "display_data",
          "data": {
            "text/plain": [
              "<Figure size 640x480 with 1 Axes>"
            ],
            "image/png": "[encoded data removed]"
          },
          "metadata": {}
        }
      ]
    },
    {
      "cell_type": "markdown",
      "source": [
        "3.Create a game (like rock paper/scissors) and write a python code to record how many times the computer won and the user won in an excel file. Plot the graph showing the success rate of user and computer with different colors."
      ],
      "metadata": {
        "id": "EbllPV2vH7yj"
      }
    },
    {
      "cell_type": "code",
      "source": [
        "import random\n",
        "import csv\n",
        "from google.colab import files\n",
        "import pandas as pd\n",
        "\n",
        "computer_wins = 0\n",
        "user_wins = 0\n",
        "game_data = []\n",
        "\n",
        "while True:\n",
        "    computer = random.randint(1, 9)\n",
        "    user_input = int(input(\"Enter a number between 1 and 9: \"))\n",
        "    print(\"Computer's number:\", computer)\n",
        "    print(\"Your guess:\", user_input)\n",
        "\n",
        "    round_result = \"\"\n",
        "\n",
        "    if computer > user_input:\n",
        "        round_result = \"Computer won\"\n",
        "        computer_wins += 1\n",
        "    elif computer == user_input:\n",
        "        round_result = \"Tie\"\n",
        "    else:\n",
        "        round_result = \"You won\"\n",
        "        user_wins += 1\n",
        "\n",
        "    game_data.append({'User Guess': user_input, 'Computer Number': computer, 'Result': round_result})\n",
        "\n",
        "    print(\"User wins:\", user_wins, \"Computer wins:\", computer_wins)\n",
        "\n",
        "    play_again = input(\"Do you want to play again? (y/n): \")\n",
        "    if play_again.lower() != 'y':\n",
        "        break\n",
        "\n",
        "# Create a DataFrame from game data\n",
        "df = pd.DataFrame(game_data)\n",
        "\n",
        "# Export DataFrame to an Excel file\n",
        "excel_filename = 'game_results.xlsx'\n",
        "df.to_excel(excel_filename, index=False)\n",
        "files.download(excel_filename)"
      ],
      "metadata": {
        "id": "LUrvkvAuH_VG",
        "colab": {
          "base_uri": "https://localhost:8080/",
          "height": 191
        },
        "outputId": "e6824deb-7462-4c0f-d464-5fa44ef0d2c8"
      },
      "execution_count": 20,
      "outputs": [
        {
          "name": "stdout",
          "output_type": "stream",
          "text": [
            "Enter a number between 1 and 9: 6\n",
            "Computer's number: 7\n",
            "Your guess: 6\n",
            "User wins: 0 Computer wins: 1\n",
            "Do you want to play again? (y/n): y\n",
            "Enter a number between 1 and 9: 4\n",
            "Computer's number: 4\n",
            "Your guess: 4\n",
            "User wins: 0 Computer wins: 1\n",
            "Do you want to play again? (y/n): n\n"
          ]
        },
        {
          "output_type": "display_data",
          "data": {
            "text/plain": [
              "<IPython.core.display.Javascript object>"
            ],
            "application/javascript": [
              "\n",
              "    async function download(id, filename, size) {\n",
              "      if (!google.colab.kernel.accessAllowed) {\n",
              "        return;\n",
              "      }\n",
              "      const div = document.createElement('div');\n",
              "      const label = document.createElement('label');\n",
              "      label.textContent = `Downloading \"${filename}\": `;\n",
              "      div.appendChild(label);\n",
              "      const progress = document.createElement('progress');\n",
              "      progress.max = size;\n",
              "      div.appendChild(progress);\n",
              "      document.body.appendChild(div);\n",
              "\n",
              "      const buffers = [];\n",
              "      let downloaded = 0;\n",
              "\n",
              "      const channel = await google.colab.kernel.comms.open(id);\n",
              "      // Send a message to notify the kernel that we're ready.\n",
              "      channel.send({})\n",
              "\n",
              "      for await (const message of channel.messages) {\n",
              "        // Send a message to notify the kernel that we're ready.\n",
              "        channel.send({})\n",
              "        if (message.buffers) {\n",
              "          for (const buffer of message.buffers) {\n",
              "            buffers.push(buffer);\n",
              "            downloaded += buffer.byteLength;\n",
              "            progress.value = downloaded;\n",
              "          }\n",
              "        }\n",
              "      }\n",
              "      const blob = new Blob(buffers, {type: 'application/binary'});\n",
              "      const a = document.createElement('a');\n",
              "      a.href = window.URL.createObjectURL(blob);\n",
              "      a.download = filename;\n",
              "      div.appendChild(a);\n",
              "      a.click();\n",
              "      div.remove();\n",
              "    }\n",
              "  "
            ]
          },
          "metadata": {}
        },
        {
          "output_type": "display_data",
          "data": {
            "text/plain": [
              "<IPython.core.display.Javascript object>"
            ],
            "application/javascript": [
              "download(\"download_3587b135-4cc7-434b-ba2c-932a3901593e\", \"game_results.xlsx\", 4980)"
            ]
          },
          "metadata": {}
        }
      ]
    },
    {
      "cell_type": "code",
      "source": [],
      "metadata": {
        "id": "aWzZJqc92HeB"
      },
      "execution_count": null,
      "outputs": []
    }
  ]
}