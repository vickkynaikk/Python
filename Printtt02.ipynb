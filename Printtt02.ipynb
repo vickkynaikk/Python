{
  "nbformat": 4,
  "nbformat_minor": 0,
  "metadata": {
    "colab": {
      "provenance": []
    },
    "kernelspec": {
      "name": "python3",
      "display_name": "Python 3"
    },
    "language_info": {
      "name": "python"
    }
  },
  "cells": [
    {
      "cell_type": "code",
      "execution_count": null,
      "metadata": {
        "id": "7Q9kQjf3HC3j"
      },
      "outputs": [],
      "source": []
    },
    {
      "cell_type": "markdown",
      "source": [
        "Tuple operations"
      ],
      "metadata": {
        "id": "nisp4miBHTXk"
      }
    },
    {
      "cell_type": "code",
      "source": [
        "tuple1=(\"vick\",\"hubli\",\"kletech\")\n",
        "print(tuple1[0])\n",
        "print(tuple1[1])\n",
        "print(tuple1[2])\n",
        "print(tuple1[-1])\n",
        "print(tuple1[-2])\n"
      ],
      "metadata": {
        "colab": {
          "base_uri": "https://localhost:8080/"
        },
        "id": "LvHbcvnCHa2b",
        "outputId": "a63c5b1e-61e2-4c49-fc03-0bc843b4ec32"
      },
      "execution_count": 2,
      "outputs": [
        {
          "output_type": "stream",
          "name": "stdout",
          "text": [
            "vick\n",
            "hubli\n",
            "kletech\n",
            "kletech\n",
            "hubli\n"
          ]
        }
      ]
    },
    {
      "cell_type": "code",
      "source": [
        "tuple2=tuple1+tuple1\n",
        "print(tuple2)"
      ],
      "metadata": {
        "colab": {
          "base_uri": "https://localhost:8080/"
        },
        "id": "z1_R7vChH1vw",
        "outputId": "f3ecab1b-bbe1-41e4-c283-294228b7c4a0"
      },
      "execution_count": 3,
      "outputs": [
        {
          "output_type": "stream",
          "name": "stdout",
          "text": [
            "('vick', 'hubli', 'kletech', 'vick', 'hubli', 'kletech')\n"
          ]
        }
      ]
    },
    {
      "cell_type": "code",
      "source": [
        "tuple3=tuple2*2\n",
        "print(tuple3)"
      ],
      "metadata": {
        "colab": {
          "base_uri": "https://localhost:8080/"
        },
        "id": "Bgfx3LZcINVy",
        "outputId": "3ffce512-c777-4af3-f005-e9a4e8589a54"
      },
      "execution_count": 4,
      "outputs": [
        {
          "output_type": "stream",
          "name": "stdout",
          "text": [
            "('vick', 'hubli', 'kletech', 'vick', 'hubli', 'kletech', 'vick', 'hubli', 'kletech', 'vick', 'hubli', 'kletech')\n"
          ]
        }
      ]
    },
    {
      "cell_type": "code",
      "source": [
        "y=tuple3.index('kletech')\n",
        "print(y)\n",
        "x=tuple3.count('hubli')\n",
        "print(x)\n"
      ],
      "metadata": {
        "colab": {
          "base_uri": "https://localhost:8080/"
        },
        "id": "hlQEe01wIh21",
        "outputId": "01bfa8a4-3375-463e-9abf-ef25ed602051"
      },
      "execution_count": 5,
      "outputs": [
        {
          "output_type": "stream",
          "name": "stdout",
          "text": [
            "2\n",
            "4\n"
          ]
        }
      ]
    },
    {
      "cell_type": "code",
      "source": [
        "x= (\"hubli\",\"college\",\"dubaiiii\")\n",
        "print(type(x))\n"
      ],
      "metadata": {
        "colab": {
          "base_uri": "https://localhost:8080/"
        },
        "id": "_KZ3K8fqJXoa",
        "outputId": "5a2cd65e-bc7d-47b8-f71d-07739016470e"
      },
      "execution_count": 9,
      "outputs": [
        {
          "output_type": "stream",
          "name": "stdout",
          "text": [
            "<class 'tuple'>\n"
          ]
        }
      ]
    },
    {
      "cell_type": "code",
      "source": [
        "y=list(z)\n",
        "y[2]=\"himalaya\"\n",
        "x=tuple(y)\n",
        "print(x)\n"
      ],
      "metadata": {
        "colab": {
          "base_uri": "https://localhost:8080/"
        },
        "id": "YeLXCr1VKSQv",
        "outputId": "f264f4c6-b2d9-4513-fc4e-69a79723fbe6"
      },
      "execution_count": 10,
      "outputs": [
        {
          "output_type": "stream",
          "name": "stdout",
          "text": [
            "('hubli', 'college', 'himalaya')\n"
          ]
        }
      ]
    },
    {
      "cell_type": "code",
      "source": [],
      "metadata": {
        "id": "Ue1jRlIWKrft"
      },
      "execution_count": null,
      "outputs": []
    },
    {
      "cell_type": "markdown",
      "source": [
        "Sets\n",
        "1.Unordered\n",
        "2.Unchangable\n",
        "3.No Duplicates allowed\n"
      ],
      "metadata": {
        "id": "dkRPZLo2LoHN"
      }
    },
    {
      "cell_type": "code",
      "source": [
        "set1={\"Red\",\"Yellow\",\"Blue\"}\n",
        "print(set1)\n",
        "set2={\"Red\",\"Yellow\",\"Blue\",\"Blue\",\"Red\"}\n",
        "print(set2)"
      ],
      "metadata": {
        "colab": {
          "base_uri": "https://localhost:8080/"
        },
        "id": "sKK6FblOMGCF",
        "outputId": "dec7541c-cdd9-4400-ef18-5024c305604a"
      },
      "execution_count": 13,
      "outputs": [
        {
          "output_type": "stream",
          "name": "stdout",
          "text": [
            "{'Blue', 'Yellow', 'Red'}\n",
            "{'Blue', 'Yellow', 'Red'}\n"
          ]
        }
      ]
    },
    {
      "cell_type": "code",
      "source": [
        "set1.add('Blackk')\n",
        "print(set1)"
      ],
      "metadata": {
        "colab": {
          "base_uri": "https://localhost:8080/"
        },
        "id": "chXY-pSVMnNo",
        "outputId": "521cc298-f9a5-4728-80ea-ae51ff1c4b94"
      },
      "execution_count": 14,
      "outputs": [
        {
          "output_type": "stream",
          "name": "stdout",
          "text": [
            "{'Blue', 'Blackk', 'Yellow', 'Red'}\n"
          ]
        }
      ]
    },
    {
      "cell_type": "code",
      "source": [
        "set3={\"Pinkk\",\"Green\",\"Purple\"}\n",
        "set1.update(set3)\n",
        "print(set1)"
      ],
      "metadata": {
        "colab": {
          "base_uri": "https://localhost:8080/"
        },
        "id": "xUV6R5a5NGA9",
        "outputId": "8741dcf9-4ffb-4d57-eb9b-1f908cbc1adb"
      },
      "execution_count": 15,
      "outputs": [
        {
          "output_type": "stream",
          "name": "stdout",
          "text": [
            "{'Blue', 'Blackk', 'Yellow', 'Pinkk', 'Green', 'Red', 'Purple'}\n"
          ]
        }
      ]
    },
    {
      "cell_type": "code",
      "source": [],
      "metadata": {
        "id": "b6iPn6kiNpq9"
      },
      "execution_count": null,
      "outputs": []
    },
    {
      "cell_type": "markdown",
      "source": [
        "Dictionaries\n",
        "1.Ordered\n",
        "2.Changable\n",
        "3.No duplicates allowed"
      ],
      "metadata": {
        "id": "myUhCF7FONbH"
      }
    },
    {
      "cell_type": "code",
      "source": [
        "Dict1={\"Name\":\"Vickyy\",\n",
        "       \"Age\":\"20\",\n",
        "       \"Gender\":\"Male\"}\n",
        "print(Dict1)"
      ],
      "metadata": {
        "colab": {
          "base_uri": "https://localhost:8080/"
        },
        "id": "XV71Wl2zOYJe",
        "outputId": "ab930bad-f7bc-4cbe-92a3-c402c18df3aa"
      },
      "execution_count": 16,
      "outputs": [
        {
          "output_type": "stream",
          "name": "stdout",
          "text": [
            "{'Name': 'Vickyy', 'Age': '20', 'Gender': 'Male'}\n"
          ]
        }
      ]
    },
    {
      "cell_type": "code",
      "source": [
        "print(type(Dict1))"
      ],
      "metadata": {
        "colab": {
          "base_uri": "https://localhost:8080/"
        },
        "id": "vPTI8TXDO0Ij",
        "outputId": "ef849905-163e-4e6c-fbd5-ff882b4da104"
      },
      "execution_count": 17,
      "outputs": [
        {
          "output_type": "stream",
          "name": "stdout",
          "text": [
            "<class 'dict'>\n"
          ]
        }
      ]
    },
    {
      "cell_type": "code",
      "source": [
        "a=input(\"Enter the value of a\")\n",
        "b=input(\"Enter the value of b\")\n",
        "print(a)\n",
        "print(b)"
      ],
      "metadata": {
        "colab": {
          "base_uri": "https://localhost:8080/"
        },
        "id": "WrqSapydO7UU",
        "outputId": "a7b64543-c9ea-41f5-f134-73407165f455"
      },
      "execution_count": 18,
      "outputs": [
        {
          "output_type": "stream",
          "name": "stdout",
          "text": [
            "Enter the value of a25\n",
            "Enter the value of b30\n",
            "25\n",
            "30\n"
          ]
        }
      ]
    },
    {
      "cell_type": "code",
      "source": [
        "if a>b:\n",
        "  print(\"value of a is greater than b\")\n",
        "if a==b:\n",
        "  print(\"both a and b are same\")\n",
        "else:\n",
        "  print('value of a is lesser than b')"
      ],
      "metadata": {
        "colab": {
          "base_uri": "https://localhost:8080/"
        },
        "id": "kN0AWDS7RY4u",
        "outputId": "e28e03a5-6447-4b1c-c78f-b8d155cb6759"
      },
      "execution_count": 20,
      "outputs": [
        {
          "output_type": "stream",
          "name": "stdout",
          "text": [
            "value of a is lesser than b\n"
          ]
        }
      ]
    },
    {
      "cell_type": "code",
      "source": [
        "ball1_colour=\"Green\"\n",
        "ball2_colour=\"Blue\"\n",
        "ball3_colour=\"Red\"\n",
        "ball4_colour=\"Black\"\n",
        "\n",
        "pick_ball= input(\"Please pick a ball\")\n",
        "\n",
        "if pick_ball == ball1_colour:\n",
        "  print(\"Green ball is picked\")\n",
        "\n",
        "elif pick_ball == ball2_colour:\n",
        "  print(\"Blue ball is picked\")\n",
        "\n",
        "elif pick_ball == ball3_colour:\n",
        "  print(\"Red ball is picked\")\n",
        "\n",
        "else:\n",
        "  print(\"Black ball is picked\")"
      ],
      "metadata": {
        "colab": {
          "base_uri": "https://localhost:8080/"
        },
        "id": "yi-oTjc-SVlh",
        "outputId": "ddf1080c-5c98-44d6-a22d-4f6c21b644b8"
      },
      "execution_count": 26,
      "outputs": [
        {
          "output_type": "stream",
          "name": "stdout",
          "text": [
            "Please pick a ball Blue\n",
            "Black ball is picked\n"
          ]
        }
      ]
    },
    {
      "cell_type": "code",
      "source": [],
      "metadata": {
        "id": "qWCZOEp_Ud-N"
      },
      "execution_count": null,
      "outputs": []
    },
    {
      "cell_type": "code",
      "source": [],
      "metadata": {
        "id": "SbKbM2GoWsO7"
      },
      "execution_count": null,
      "outputs": []
    }
  ]
}